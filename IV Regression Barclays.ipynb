{
 "cells": [
  {
   "cell_type": "code",
   "execution_count": 1,
   "id": "2e52adf9",
   "metadata": {},
   "outputs": [
    {
     "name": "stderr",
     "output_type": "stream",
     "text": [
      "/Users/shreshtvenkatraman/opt/anaconda3/lib/python3.9/site-packages/pandas/core/arrays/masked.py:60: UserWarning: Pandas requires version '1.3.6' or newer of 'bottleneck' (version '1.3.5' currently installed).\n",
      "  from pandas.core import (\n"
     ]
    }
   ],
   "source": [
    "import pandas as pd\n",
    "import numpy as np"
   ]
  },
  {
   "cell_type": "markdown",
   "id": "1ae08e35",
   "metadata": {},
   "source": [
    "## Do investor flows increase the prices of certain securities, or do investors buy securities with high prices?\n"
   ]
  },
  {
   "cell_type": "code",
   "execution_count": 2,
   "id": "43c5088e",
   "metadata": {},
   "outputs": [],
   "source": [
    "def make_instrument (start = '', end = '', duration = 0):\n",
    "    \n",
    "    if len(end) == 0:\n",
    "        dates_series =pd.date_range(start,periods = duration)\n",
    "    elif duration > 0:\n",
    "        dates_series = pd.date_range(start , end)\n",
    "        \n",
    "    paydays = dates_series + pd.tseries.offsets.SemiMonthEnd(0)\n",
    "    z1 = (paydays == dates_series).astype(float)\n",
    "    z2 = z1*0.25\n",
    "    \n",
    "    inst_df = pd.DataFrame({'Z1': z1, 'Z2': z2, 'Dates': dates_series})\n",
    "    return inst_df"
   ]
  },
  {
   "cell_type": "code",
   "execution_count": 3,
   "id": "8157eca5",
   "metadata": {},
   "outputs": [],
   "source": [
    "#from numpy import random\n",
    "\n",
    "rng = np.random.default_rng(216)\n",
    "N = 1000\n",
    "\n",
    "df = make_instrument(start = '1/1/2020', duration = N)"
   ]
  },
  {
   "cell_type": "code",
   "execution_count": null,
   "id": "233f8023",
   "metadata": {},
   "outputs": [],
   "source": []
  },
  {
   "cell_type": "code",
   "execution_count": 4,
   "id": "4dc3920e",
   "metadata": {},
   "outputs": [
    {
     "data": {
      "text/html": [
       "<div>\n",
       "<style scoped>\n",
       "    .dataframe tbody tr th:only-of-type {\n",
       "        vertical-align: middle;\n",
       "    }\n",
       "\n",
       "    .dataframe tbody tr th {\n",
       "        vertical-align: top;\n",
       "    }\n",
       "\n",
       "    .dataframe thead th {\n",
       "        text-align: right;\n",
       "    }\n",
       "</style>\n",
       "<table border=\"1\" class=\"dataframe\">\n",
       "  <thead>\n",
       "    <tr style=\"text-align: right;\">\n",
       "      <th></th>\n",
       "      <th>Z1</th>\n",
       "      <th>Z2</th>\n",
       "      <th>Dates</th>\n",
       "    </tr>\n",
       "  </thead>\n",
       "  <tbody>\n",
       "    <tr>\n",
       "      <th>0</th>\n",
       "      <td>0.0</td>\n",
       "      <td>0.0</td>\n",
       "      <td>2020-01-01</td>\n",
       "    </tr>\n",
       "    <tr>\n",
       "      <th>1</th>\n",
       "      <td>0.0</td>\n",
       "      <td>0.0</td>\n",
       "      <td>2020-01-02</td>\n",
       "    </tr>\n",
       "    <tr>\n",
       "      <th>2</th>\n",
       "      <td>0.0</td>\n",
       "      <td>0.0</td>\n",
       "      <td>2020-01-03</td>\n",
       "    </tr>\n",
       "    <tr>\n",
       "      <th>3</th>\n",
       "      <td>0.0</td>\n",
       "      <td>0.0</td>\n",
       "      <td>2020-01-04</td>\n",
       "    </tr>\n",
       "    <tr>\n",
       "      <th>4</th>\n",
       "      <td>0.0</td>\n",
       "      <td>0.0</td>\n",
       "      <td>2020-01-05</td>\n",
       "    </tr>\n",
       "    <tr>\n",
       "      <th>...</th>\n",
       "      <td>...</td>\n",
       "      <td>...</td>\n",
       "      <td>...</td>\n",
       "    </tr>\n",
       "    <tr>\n",
       "      <th>995</th>\n",
       "      <td>0.0</td>\n",
       "      <td>0.0</td>\n",
       "      <td>2022-09-22</td>\n",
       "    </tr>\n",
       "    <tr>\n",
       "      <th>996</th>\n",
       "      <td>0.0</td>\n",
       "      <td>0.0</td>\n",
       "      <td>2022-09-23</td>\n",
       "    </tr>\n",
       "    <tr>\n",
       "      <th>997</th>\n",
       "      <td>0.0</td>\n",
       "      <td>0.0</td>\n",
       "      <td>2022-09-24</td>\n",
       "    </tr>\n",
       "    <tr>\n",
       "      <th>998</th>\n",
       "      <td>0.0</td>\n",
       "      <td>0.0</td>\n",
       "      <td>2022-09-25</td>\n",
       "    </tr>\n",
       "    <tr>\n",
       "      <th>999</th>\n",
       "      <td>0.0</td>\n",
       "      <td>0.0</td>\n",
       "      <td>2022-09-26</td>\n",
       "    </tr>\n",
       "  </tbody>\n",
       "</table>\n",
       "<p>1000 rows × 3 columns</p>\n",
       "</div>"
      ],
      "text/plain": [
       "      Z1   Z2      Dates\n",
       "0    0.0  0.0 2020-01-01\n",
       "1    0.0  0.0 2020-01-02\n",
       "2    0.0  0.0 2020-01-03\n",
       "3    0.0  0.0 2020-01-04\n",
       "4    0.0  0.0 2020-01-05\n",
       "..   ...  ...        ...\n",
       "995  0.0  0.0 2022-09-22\n",
       "996  0.0  0.0 2022-09-23\n",
       "997  0.0  0.0 2022-09-24\n",
       "998  0.0  0.0 2022-09-25\n",
       "999  0.0  0.0 2022-09-26\n",
       "\n",
       "[1000 rows x 3 columns]"
      ]
     },
     "execution_count": 4,
     "metadata": {},
     "output_type": "execute_result"
    }
   ],
   "source": [
    "df"
   ]
  },
  {
   "cell_type": "markdown",
   "id": "470772c7",
   "metadata": {},
   "source": [
    "We assume we observe approximately three years of data, so we will simulate 1000 days of observations. \n",
    "\n",
    "Our instrument, payday, can be 0 or 1, either a day is a payday, or it isn't. We assume that the 15th and last day of the month are paydays2, and a payday is unrelated to returns, except for how it influences the number of investors holding a security.\n",
    "\n",
    "We'll call payday 𝑍 when discussing the math of instrumental variables below. We offer a function\n",
    "to create a payday indicator, based on a set of dates:\n",
    "\n",
    "𝑈, which we can't observe in our data analysis, but which affects both holdings and returns, is distributed 𝑁(1,1) (normally, with a mean of 1, and a standard deviation of 1). \n",
    "\n",
    "𝑋, the number of users holding a security is downstream of payday, and is deterministic in this\n",
    "setup, it is the sum of 𝑈 and 𝑍. \n",
    "\n",
    "𝛽, the coefficient on 𝑋 is distributed 𝑁𝑁(1, .1) (normally, with a mean of 1, and a standard deviation of .1) , \n",
    "\n",
    "𝑌, the outcome, is distributed 𝑁(𝑈 + 𝑋𝛽, 1), (normally, with a mean that’s the sum of the variables times the slope plus the unobserved variable, and a standard deviation of 1).\n",
    "\n",
    "Thus, there is an unobserved confounder, 𝑈, which affects both 𝑋 and 𝑌. Our simulated\n",
    "𝛽 = 1.11."
   ]
  },
  {
   "cell_type": "code",
   "execution_count": 5,
   "id": "e4c3fb32",
   "metadata": {},
   "outputs": [
    {
     "name": "stdout",
     "output_type": "stream",
     "text": [
      "beta[[1.1099157]]:\n"
     ]
    }
   ],
   "source": [
    "u = rng.normal(size = N, loc = 1, scale = 1).reshape(N,1) ## CONFOUNDING VARIABLE\n",
    "x = rng.normal(u + df['Z1'].values.reshape(N,1)).reshape(N,1) ## SUM OF U and Z (NUMBER OF USERS HOLDING A SECURITY)\n",
    "\n",
    "beta = rng.normal(size = 1, loc = 1, scale = 0.1).reshape(1,1) ## COEFFICIENT\n",
    "\n",
    "y = rng.normal(loc = u + np.matmul(x,beta), scale = 1) ## DEPENDANT VARIAVLE ALSO AFFECTED BY U;\n",
    "\n",
    "df['X'] = x[:, 0]\n",
    "df['Y'] = y[:, 0]\n",
    "\n",
    "print(\"beta{}:\".format(beta))\n"
   ]
  },
  {
   "cell_type": "code",
   "execution_count": 6,
   "id": "cd1c463c",
   "metadata": {},
   "outputs": [
    {
     "data": {
      "text/plain": [
       "array([[1.06140332]])"
      ]
     },
     "execution_count": 6,
     "metadata": {},
     "output_type": "execute_result"
    }
   ],
   "source": [
    "rng.normal(size = 1, loc = 1, scale = 0.1).reshape(1,1)"
   ]
  },
  {
   "cell_type": "code",
   "execution_count": 7,
   "id": "6dde749c",
   "metadata": {
    "scrolled": true
   },
   "outputs": [
    {
     "data": {
      "text/plain": [
       "<Axes: ylabel='Frequency'>"
      ]
     },
     "execution_count": 7,
     "metadata": {},
     "output_type": "execute_result"
    },
    {
     "data": {
      "image/png": "[encoded data removed]",
      "text/plain": [
       "<Figure size 640x480 with 1 Axes>"
      ]
     },
     "metadata": {},
     "output_type": "display_data"
    }
   ],
   "source": [
    "df['X'].plot(kind = 'hist')\n",
    "df['Y'].plot(kind = 'hist')"
   ]
  },
  {
   "cell_type": "code",
   "execution_count": 8,
   "id": "b0b776b2",
   "metadata": {},
   "outputs": [
    {
     "name": "stderr",
     "output_type": "stream",
     "text": [
      "<frozen importlib._bootstrap>:228: RuntimeWarning: scipy._lib.messagestream.MessageStream size changed, may indicate binary incompatibility. Expected 56 from C header, got 64 from PyObject\n"
     ]
    },
    {
     "name": "stdout",
     "output_type": "stream",
     "text": [
      "                            OLS Regression Results                            \n",
      "==============================================================================\n",
      "Dep. Variable:                      Y   R-squared:                       0.764\n",
      "Model:                            OLS   Adj. R-squared:                  0.763\n",
      "Method:                 Least Squares   F-statistic:                     3225.\n",
      "Date:                Mon, 03 Jun 2024   Prob (F-statistic):          6.71e-315\n",
      "Time:                        11:20:19   Log-Likelihood:                -1625.7\n",
      "No. Observations:                1000   AIC:                             3255.\n",
      "Df Residuals:                     998   BIC:                             3265.\n",
      "Df Model:                           1                                         \n",
      "Covariance Type:            nonrobust                                         \n",
      "==============================================================================\n",
      "                 coef    std err          t      P>|t|      [0.025      0.975]\n",
      "------------------------------------------------------------------------------\n",
      "Intercept      0.3876      0.050      7.747      0.000       0.289       0.486\n",
      "X              1.6409      0.029     56.792      0.000       1.584       1.698\n",
      "==============================================================================\n",
      "Omnibus:                        0.543   Durbin-Watson:                   2.042\n",
      "Prob(Omnibus):                  0.762   Jarque-Bera (JB):                0.489\n",
      "Skew:                           0.053   Prob(JB):                        0.783\n",
      "Kurtosis:                       3.023   Cond. No.                         2.58\n",
      "==============================================================================\n",
      "\n",
      "Notes:\n",
      "[1] Standard Errors assume that the covariance matrix of the errors is correctly specified.\n"
     ]
    }
   ],
   "source": [
    "import statsmodels.formula.api as smf\n",
    "\n",
    "print(smf.ols('Y~X', df).fit().summary())"
   ]
  },
  {
   "cell_type": "markdown",
   "id": "35d8668d",
   "metadata": {},
   "source": [
    "### The above coefficient for X - 1.53 does not represent the True Beta as it is biased due to the confounding variable U\n",
    "\n",
    "### We solve this issue using to 2SLS - 2 Stage Least Squares:-\n",
    "\n",
    "we can regress 𝑋 on 𝑍, isolating the amount of 𝑋 caused by 𝑍, and\n",
    "then, regress Y on the predictions from that model. Thus, we can estimate the **Local Average Treatment Effect (LATE)**, the effect of a subpopulation of 𝑋 on 𝑍, giving us the estimator:- 𝛽^iv\n",
    "\n",
    "The LATE estimator can be implimented in a fairly straightforward manner using two OLS\n",
    "equations:\n",
    "* 𝑋 = 𝑍𝛾 + 𝜀\n",
    "* 𝑌 = 𝑋*𝛽 + 𝜀 \n",
    "\n",
    "X* refers to X predicted using Z\n"
   ]
  },
  {
   "cell_type": "code",
   "execution_count": 9,
   "id": "82fd03b7",
   "metadata": {},
   "outputs": [
    {
     "name": "stdout",
     "output_type": "stream",
     "text": [
      "                            OLS Regression Results                            \n",
      "==============================================================================\n",
      "Dep. Variable:                      Y   R-squared:                       0.011\n",
      "Model:                            OLS   Adj. R-squared:                  0.010\n",
      "Method:                 Least Squares   F-statistic:                     10.72\n",
      "Date:                Mon, 03 Jun 2024   Prob (F-statistic):            0.00110\n",
      "Time:                        11:20:19   Log-Likelihood:                -2341.7\n",
      "No. Observations:                1000   AIC:                             4687.\n",
      "Df Residuals:                     998   BIC:                             4697.\n",
      "Df Model:                           1                                         \n",
      "Covariance Type:            nonrobust                                         \n",
      "==============================================================================\n",
      "                 coef    std err          t      P>|t|      [0.025      0.975]\n",
      "------------------------------------------------------------------------------\n",
      "Intercept      0.9476      0.383      2.477      0.013       0.197       1.698\n",
      "x_star         1.1262      0.344      3.274      0.001       0.451       1.801\n",
      "==============================================================================\n",
      "Omnibus:                        1.136   Durbin-Watson:                   2.017\n",
      "Prob(Omnibus):                  0.567   Jarque-Bera (JB):                1.005\n",
      "Skew:                          -0.043   Prob(JB):                        0.605\n",
      "Kurtosis:                       3.129   Cond. No.                         9.56\n",
      "==============================================================================\n",
      "\n",
      "Notes:\n",
      "[1] Standard Errors assume that the covariance matrix of the errors is correctly specified.\n"
     ]
    }
   ],
   "source": [
    "## Running 2SLS:\n",
    "\n",
    "first_stage = smf.ols('X~Z1', data= df).fit()\n",
    "df['x_star'] = first_stage.predict()\n",
    "\n",
    "second_stage = smf.ols('Y~x_star', df).fit()\n",
    "print(second_stage.summary())"
   ]
  },
  {
   "cell_type": "markdown",
   "id": "ccd90c87",
   "metadata": {},
   "source": [
    "### Better estimation of Beta (less biased)\n",
    "\n",
    "### However higher Std.Errors - Instrumental variables minimize bias at the cost of increasing variance\n"
   ]
  },
  {
   "cell_type": "markdown",
   "id": "19e124b6",
   "metadata": {},
   "source": [
    "## Predicting from an IV model\n",
    "\n",
    "If you want to use your instrumental variable regression to predict, you have to be clever.\n",
    "The 2SLS implementation can suffer from numerical instability in prediction, and, if you\n",
    "have a binary instrument (𝑍), you will only be able to observe predictions over the \"local\"\n",
    "subset of your population. The predictions from this model are not particularly useful across\n",
    "the range of 𝑋, they end up being dichotomous:"
   ]
  },
  {
   "cell_type": "code",
   "execution_count": 10,
   "id": "50018d16",
   "metadata": {},
   "outputs": [
    {
     "data": {
      "text/plain": [
       "<matplotlib.collections.PathCollection at 0x7fd2ebf06fd0>"
      ]
     },
     "execution_count": 10,
     "metadata": {},
     "output_type": "execute_result"
    },
    {
     "data": {
      "image/png": "[encoded data removed]",
      "text/plain": [
       "<Figure size 640x480 with 1 Axes>"
      ]
     },
     "metadata": {},
     "output_type": "display_data"
    }
   ],
   "source": [
    "## Using Second Stage Predictionts to Predict Y\n",
    "\n",
    "y_preds = second_stage.predict()\n",
    "x = df['X']\n",
    "\n",
    "import matplotlib.pyplot as plt\n",
    "plt.scatter(y_preds, x)"
   ]
  },
  {
   "cell_type": "markdown",
   "id": "56618772",
   "metadata": {},
   "source": [
    "As observed above, the predictions are limitted to 2 binary values?"
   ]
  },
  {
   "cell_type": "markdown",
   "id": "7c52f907",
   "metadata": {},
   "source": [
    "## How to get Predictions on full range of X?\n",
    "\n",
    "If you're willing to assume the local average treatment effect is equivalent to the average treatment effect \n",
    "**(LATE = ATE)**\n",
    "you can use your original 𝑋 values in the second-stage equation, to\n",
    "predict the causal effects across 𝑋. \n",
    "\n",
    "This involves first estimating the two stages as separate  OLS models, and then, using the original 𝑋 values to predict for the second stage. This allows you to predict 𝑌 across the entire range of 𝑋, rather than dichotomizing\n"
   ]
  },
  {
   "cell_type": "code",
   "execution_count": 11,
   "id": "193e8452",
   "metadata": {},
   "outputs": [
    {
     "name": "stderr",
     "output_type": "stream",
     "text": [
      "/var/folders/73/jc80cx2x5tn05gttrc1j87780000gn/T/ipykernel_9471/3470824558.py:3: FutureWarning: Series.__getitem__ treating keys as positions is deprecated. In a future version, integer keys will always be treated as labels (consistent with DataFrame behavior). To access a value by position, use `ser.iloc[pos]`\n",
      "  y_ate_preds = (x* second_stage.params[1]) + second_stage.params[0]\n"
     ]
    },
    {
     "data": {
      "text/plain": [
       "<matplotlib.collections.PathCollection at 0x7fd2ebf74be0>"
      ]
     },
     "execution_count": 11,
     "metadata": {},
     "output_type": "execute_result"
    },
    {
     "data": {
      "image/png": "[encoded data removed]",
      "text/plain": [
       "<Figure size 640x480 with 1 Axes>"
      ]
     },
     "metadata": {},
     "output_type": "display_data"
    }
   ],
   "source": [
    "## Take 2SLS - Beta and Use it on Original X values [instead of on X* values]\n",
    "\n",
    "y_ate_preds = (x* second_stage.params[1]) + second_stage.params[0]\n",
    "plt.scatter(y_ate_preds, x)"
   ]
  },
  {
   "cell_type": "code",
   "execution_count": 12,
   "id": "addc0e39",
   "metadata": {},
   "outputs": [
    {
     "name": "stderr",
     "output_type": "stream",
     "text": [
      "/var/folders/73/jc80cx2x5tn05gttrc1j87780000gn/T/ipykernel_9471/1594801267.py:3: FutureWarning: Series.__getitem__ treating keys as positions is deprecated. In a future version, integer keys will always be treated as labels (consistent with DataFrame behavior). To access a value by position, use `ser.iloc[pos]`\n",
      "  y_late_preds = (x *  first_stage.params[1]) + first_stage.params[0]\n"
     ]
    },
    {
     "data": {
      "text/plain": [
       "<matplotlib.collections.PathCollection at 0x7fd2ec10df10>"
      ]
     },
     "execution_count": 12,
     "metadata": {},
     "output_type": "execute_result"
    },
    {
     "data": {
      "image/png": "[encoded data removed]",
      "text/plain": [
       "<Figure size 640x480 with 1 Axes>"
      ]
     },
     "metadata": {},
     "output_type": "display_data"
    }
   ],
   "source": [
    "## Take 2SLS - Beta and Use it on Original X values [instead of on X* values]\n",
    "\n",
    "y_late_preds = (x *  first_stage.params[1]) + first_stage.params[0]\n",
    "plt.scatter(y_late_preds, x)"
   ]
  },
  {
   "cell_type": "markdown",
   "id": "8e55f33b",
   "metadata": {},
   "source": [
    "## The Exclusion Restriction\n",
    "\n",
    "The key assumption that allows us to make a causal claim is the exclusion restriction. The\n",
    "exclusion restriction requires that our instrument, payday (𝑍), only affects the outcome,\n",
    "returns ( 𝑌 ), **through holdings ( 𝑋 )**, there is **no direct relationship between Y and Z**\n",
    "\n",
    "\n",
    "### What happens when the exclusion restriction is violated?\n",
    "We'll introduce just a little bit of correlation between payday and returns and see what happens"
   ]
  },
  {
   "cell_type": "code",
   "execution_count": 13,
   "id": "3473a3c3",
   "metadata": {},
   "outputs": [
    {
     "name": "stdout",
     "output_type": "stream",
     "text": [
      "                          IV-2SLS Estimation Summary                          \n",
      "==============================================================================\n",
      "Dep. Variable:                  y_bad   R-squared:                      0.7455\n",
      "Estimator:                    IV-2SLS   Adj. R-squared:                 0.7452\n",
      "No. Observations:                1000   F-statistic:                    59.401\n",
      "Date:                Mon, Jun 03 2024   P-value (F-stat)                0.0000\n",
      "Time:                        11:20:21   Distribution:                  chi2(1)\n",
      "Cov. Estimator:                robust                                         \n",
      "                                                                              \n",
      "                             Parameter Estimates                              \n",
      "==============================================================================\n",
      "            Parameter  Std. Err.     T-stat    P-value    Lower CI    Upper CI\n",
      "------------------------------------------------------------------------------\n",
      "Intercept      0.7458     0.1974     3.7789     0.0002      0.3590      1.1326\n",
      "X              1.3687     0.1776     7.7072     0.0000      1.0207      1.7168\n",
      "==============================================================================\n",
      "\n",
      "Endogenous: X\n",
      "Instruments: Z1\n",
      "Robust Covariance (Heteroskedastic)\n",
      "Debiased: False\n"
     ]
    }
   ],
   "source": [
    "import linearmodels\n",
    "\n",
    "zy_corr = np.ones(1)* 0.25\n",
    "\n",
    "## introducing correaltion into y\n",
    "y_restriction = rng.normal(\n",
    "                loc = u + np.matmul(df.X.values.reshape(N,1), beta) +\n",
    "                      np.matmul(df.Z1.values.reshape(N,1), zy_corr).reshape(N,1), \n",
    "                      scale = 1)\n",
    "\n",
    "df['y_bad'] = y_restriction\n",
    "\n",
    "iv_1 = linearmodels.iv.IV2SLS.from_formula(formula = \"y_bad~ 1 + [X~Z1]\", data = df).fit()\n",
    "\n",
    "print(iv_1.summary)"
   ]
  },
  {
   "cell_type": "code",
   "execution_count": 14,
   "id": "db786b2f",
   "metadata": {},
   "outputs": [
    {
     "data": {
      "text/plain": [
       "1.3687428503354866"
      ]
     },
     "execution_count": 14,
     "metadata": {},
     "output_type": "execute_result"
    }
   ],
   "source": [
    "iv_1.params['X']"
   ]
  },
  {
   "cell_type": "markdown",
   "id": "e3a3b39f",
   "metadata": {},
   "source": [
    "The estimated coefficient is 1.420, even though our true value is 1.09, and the true beta doesn't even\n",
    "fall inside the 95% confidence interval of the correlated model! This means that our estimate is biased. While you\n",
    "can estimate the coefficient on 𝑌𝑌~𝑍𝑍, to some extent, the argument for the validity of a\n",
    "particular instrument is largely theory (expert-knowledge) based. This is by far the most\n",
    "difficult part of using instrumental variables; a valid instrument is worth its weight in gold."
   ]
  },
  {
   "cell_type": "markdown",
   "id": "aa0e9bc2",
   "metadata": {},
   "source": [
    "## Issues with IV Regression:\n",
    "\n",
    "### Sample Size: \n",
    "* 2SLS (and IVs more generally) tend to be **biased in small samples**; you need a sufficiently large 𝑁 to return an unbiased estimate.\n",
    "* ate. The necessary sample size also depends on the **strength of the instrument**: if an instrument like payday has a strong relationship with holdings, fewer observations are needed to return an unbiased effect than with a weaker instrument\n"
   ]
  },
  {
   "cell_type": "markdown",
   "id": "451bc354",
   "metadata": {},
   "source": [
    "## Experiment Trying Different Sample Sizes:\n",
    "\n",
    "Let's take our simulated model above, and estimate the model 100 times for N ∈ [100,...,1000], in increments of 50. We'll then plot the average bias (true value - estimated value), and the standard deviation in the biases across the 100 samples. \n",
    "We’ll then reduce the strength of the relationship between payday and holdings (𝑍𝑍,𝑋𝑋), so that the\n",
    "effect is 0.25, rather than 1.\n",
    "\n",
    "As the sample size increases, the variability of the instrumental variables estimate decreases.\n",
    "\n",
    "However, when the effect size is 0.25, rather than 1, it takes more than 600 observations to consistently capture the true estimate. It’s worth pointing out that this is in the best possible case, where we know the true parameter value, our model is correctly specified, and we don’t have to worry about measurement error. The takeaway? Be very cautious about instrumental variables estimates in small samples"
   ]
  },
  {
   "cell_type": "code",
   "execution_count": 15,
   "id": "5e68dda6",
   "metadata": {},
   "outputs": [],
   "source": [
    "## Run model 100\n",
    "sample_sizes =  [n for n in  range(100,1000,50)]\n",
    "store = pd.DataFrame()\n",
    "\n",
    "samples = []\n",
    "strong_errors = []\n",
    "weak_errors = []\n",
    "\n",
    "for sample_size in sample_sizes:\n",
    "    rng = np.random.default_rng(216)\n",
    "    for model_num in range(100):\n",
    "        \n",
    "        N = sample_size\n",
    "        df = make_instrument(start = '1/1/2019', duration = N)\n",
    "        u = rng.normal(size = N, loc = 1, scale = 1).reshape(N,1) ## CONFOUNDING VARIABLE\n",
    "        beta = rng.normal(size = 1, loc = 1, scale = 0.1).reshape(1,1) ## TRUE COEFFICIENT\n",
    "        \n",
    "        x1 = rng.normal(u + df['Z1'].values.reshape(N,1)).reshape(N,1) ## SUM OF U & Z (NUMBER OF USERS HOLDING A SECURITY)\n",
    "        x2 = rng.normal(u + df['Z2'].values.reshape(N,1)).reshape(N,1) ## SUM OF U & Z (NUMBER OF USERS HOLDING A SECURITY)\n",
    "        \n",
    "        y1 = rng.normal(loc = u + np.matmul(x1,beta), scale = 1) ## DEPENDANT VARIABLE ALSO AFFECTED BY U;\n",
    "        y2 = rng.normal(loc = u + np.matmul(x2,beta), scale = 1) ## DEPENDANT VARIABLE ALSO AFFECTED BY U;\n",
    "        \n",
    "        \n",
    "        df['X1'] = x1[:, 0]\n",
    "        df['X2'] = x2[:, 0]\n",
    "        df['Y1'] = y1[:, 0]\n",
    "        df['Y2'] = y2[:, 0]\n",
    "        \n",
    "        str_iv_est =  linearmodels.iv.IV2SLS.from_formula(formula = \"Y1~ 1 + [X1~Z1]\", data = df).fit()\n",
    "        weak_iv_est = linearmodels.iv.IV2SLS.from_formula(formula = \"Y2~ 1 + [X2~Z2]\", data = df).fit()\n",
    "        \n",
    "        error_str = beta[0,0] - str_iv_est.params['X1']\n",
    "        error_weak = beta[0,0] - weak_iv_est.params['X2']\n",
    "        \n",
    "        samples.append(sample_size)\n",
    "        strong_errors.append(error_str)\n",
    "        weak_errors.append(error_weak)\n",
    "\n",
    "\n",
    "        \n",
    "    \n",
    "    "
   ]
  },
  {
   "cell_type": "code",
   "execution_count": 16,
   "id": "54cc4998",
   "metadata": {},
   "outputs": [
    {
     "data": {
      "text/plain": [
       "Intercept    0.944035\n",
       "X1           1.048781\n",
       "Name: parameter, dtype: float64"
      ]
     },
     "execution_count": 16,
     "metadata": {},
     "output_type": "execute_result"
    }
   ],
   "source": [
    "store['Sample Size'] = samples\n",
    "store['Error_1'] = np.abs(strong_errors)\n",
    "store['Error_2'] = np.abs(weak_errors)\n",
    "\n",
    "str_iv_est.params"
   ]
  },
  {
   "cell_type": "code",
   "execution_count": 17,
   "id": "b4257e87",
   "metadata": {},
   "outputs": [
    {
     "ename": "NameError",
     "evalue": "name 'error_1' is not defined",
     "output_type": "error",
     "traceback": [
      "\u001b[0;31m---------------------------------------------------------------------------\u001b[0m",
      "\u001b[0;31mNameError\u001b[0m                                 Traceback (most recent call last)",
      "\u001b[0;32m/var/folders/73/jc80cx2x5tn05gttrc1j87780000gn/T/ipykernel_9471/2065365253.py\u001b[0m in \u001b[0;36m<module>\u001b[0;34m\u001b[0m\n\u001b[0;32m----> 1\u001b[0;31m \u001b[0merror_1\u001b[0m\u001b[0;34m\u001b[0m\u001b[0;34m\u001b[0m\u001b[0m\n\u001b[0m",
      "\u001b[0;31mNameError\u001b[0m: name 'error_1' is not defined"
     ]
    }
   ],
   "source": [
    "error_1"
   ]
  },
  {
   "cell_type": "code",
   "execution_count": 18,
   "id": "7c831921",
   "metadata": {},
   "outputs": [],
   "source": [
    "means = store.groupby(\"Sample Size\").mean()\n",
    "means.reset_index(inplace = True)\n",
    "test_1 = store.groupby(\"Sample Size\").std()\n",
    "#test_1.reset_index(inplace = True)"
   ]
  },
  {
   "cell_type": "code",
   "execution_count": 19,
   "id": "cbbb9762",
   "metadata": {},
   "outputs": [
    {
     "data": {
      "text/html": [
       "<div>\n",
       "<style scoped>\n",
       "    .dataframe tbody tr th:only-of-type {\n",
       "        vertical-align: middle;\n",
       "    }\n",
       "\n",
       "    .dataframe tbody tr th {\n",
       "        vertical-align: top;\n",
       "    }\n",
       "\n",
       "    .dataframe thead th {\n",
       "        text-align: right;\n",
       "    }\n",
       "</style>\n",
       "<table border=\"1\" class=\"dataframe\">\n",
       "  <thead>\n",
       "    <tr style=\"text-align: right;\">\n",
       "      <th></th>\n",
       "      <th>Error_1</th>\n",
       "      <th>Error_2</th>\n",
       "    </tr>\n",
       "    <tr>\n",
       "      <th>Sample Size</th>\n",
       "      <th></th>\n",
       "      <th></th>\n",
       "    </tr>\n",
       "  </thead>\n",
       "  <tbody>\n",
       "    <tr>\n",
       "      <th>100</th>\n",
       "      <td>5.253148</td>\n",
       "      <td>21.334224</td>\n",
       "    </tr>\n",
       "    <tr>\n",
       "      <th>150</th>\n",
       "      <td>2.532742</td>\n",
       "      <td>3.696883</td>\n",
       "    </tr>\n",
       "    <tr>\n",
       "      <th>200</th>\n",
       "      <td>18.585626</td>\n",
       "      <td>7.905914</td>\n",
       "    </tr>\n",
       "    <tr>\n",
       "      <th>250</th>\n",
       "      <td>0.995473</td>\n",
       "      <td>3.672968</td>\n",
       "    </tr>\n",
       "    <tr>\n",
       "      <th>300</th>\n",
       "      <td>0.732473</td>\n",
       "      <td>10.536930</td>\n",
       "    </tr>\n",
       "    <tr>\n",
       "      <th>350</th>\n",
       "      <td>4.567238</td>\n",
       "      <td>5.429202</td>\n",
       "    </tr>\n",
       "    <tr>\n",
       "      <th>400</th>\n",
       "      <td>0.234294</td>\n",
       "      <td>4.505502</td>\n",
       "    </tr>\n",
       "    <tr>\n",
       "      <th>450</th>\n",
       "      <td>0.206781</td>\n",
       "      <td>5.532280</td>\n",
       "    </tr>\n",
       "    <tr>\n",
       "      <th>500</th>\n",
       "      <td>0.275794</td>\n",
       "      <td>8.858804</td>\n",
       "    </tr>\n",
       "    <tr>\n",
       "      <th>550</th>\n",
       "      <td>0.202572</td>\n",
       "      <td>6.592221</td>\n",
       "    </tr>\n",
       "    <tr>\n",
       "      <th>600</th>\n",
       "      <td>0.350463</td>\n",
       "      <td>8.555492</td>\n",
       "    </tr>\n",
       "    <tr>\n",
       "      <th>650</th>\n",
       "      <td>0.255282</td>\n",
       "      <td>4.206175</td>\n",
       "    </tr>\n",
       "    <tr>\n",
       "      <th>700</th>\n",
       "      <td>0.179790</td>\n",
       "      <td>3.864126</td>\n",
       "    </tr>\n",
       "    <tr>\n",
       "      <th>750</th>\n",
       "      <td>0.151693</td>\n",
       "      <td>12.130303</td>\n",
       "    </tr>\n",
       "    <tr>\n",
       "      <th>800</th>\n",
       "      <td>0.112467</td>\n",
       "      <td>4.962211</td>\n",
       "    </tr>\n",
       "    <tr>\n",
       "      <th>850</th>\n",
       "      <td>0.143989</td>\n",
       "      <td>1.948719</td>\n",
       "    </tr>\n",
       "    <tr>\n",
       "      <th>900</th>\n",
       "      <td>0.176689</td>\n",
       "      <td>4.285497</td>\n",
       "    </tr>\n",
       "    <tr>\n",
       "      <th>950</th>\n",
       "      <td>0.133913</td>\n",
       "      <td>3.121346</td>\n",
       "    </tr>\n",
       "  </tbody>\n",
       "</table>\n",
       "</div>"
      ],
      "text/plain": [
       "               Error_1    Error_2\n",
       "Sample Size                      \n",
       "100           5.253148  21.334224\n",
       "150           2.532742   3.696883\n",
       "200          18.585626   7.905914\n",
       "250           0.995473   3.672968\n",
       "300           0.732473  10.536930\n",
       "350           4.567238   5.429202\n",
       "400           0.234294   4.505502\n",
       "450           0.206781   5.532280\n",
       "500           0.275794   8.858804\n",
       "550           0.202572   6.592221\n",
       "600           0.350463   8.555492\n",
       "650           0.255282   4.206175\n",
       "700           0.179790   3.864126\n",
       "750           0.151693  12.130303\n",
       "800           0.112467   4.962211\n",
       "850           0.143989   1.948719\n",
       "900           0.176689   4.285497\n",
       "950           0.133913   3.121346"
      ]
     },
     "execution_count": 19,
     "metadata": {},
     "output_type": "execute_result"
    }
   ],
   "source": [
    "test_1"
   ]
  },
  {
   "cell_type": "code",
   "execution_count": 20,
   "id": "7d66eae1",
   "metadata": {},
   "outputs": [],
   "source": [
    "joined_table = means.join(test_1, on = 'Sample Size', lsuffix = '_Means')"
   ]
  },
  {
   "cell_type": "code",
   "execution_count": 21,
   "id": "6d8a31ec",
   "metadata": {},
   "outputs": [
    {
     "data": {
      "text/html": [
       "<div>\n",
       "<style scoped>\n",
       "    .dataframe tbody tr th:only-of-type {\n",
       "        vertical-align: middle;\n",
       "    }\n",
       "\n",
       "    .dataframe tbody tr th {\n",
       "        vertical-align: top;\n",
       "    }\n",
       "\n",
       "    .dataframe thead th {\n",
       "        text-align: right;\n",
       "    }\n",
       "</style>\n",
       "<table border=\"1\" class=\"dataframe\">\n",
       "  <thead>\n",
       "    <tr style=\"text-align: right;\">\n",
       "      <th></th>\n",
       "      <th>Sample Size</th>\n",
       "      <th>Error_1_Means</th>\n",
       "      <th>Error_2_Means</th>\n",
       "      <th>Error_1</th>\n",
       "      <th>Error_2</th>\n",
       "    </tr>\n",
       "  </thead>\n",
       "  <tbody>\n",
       "    <tr>\n",
       "      <th>0</th>\n",
       "      <td>100</td>\n",
       "      <td>1.467923</td>\n",
       "      <td>3.904616</td>\n",
       "      <td>5.253148</td>\n",
       "      <td>21.334224</td>\n",
       "    </tr>\n",
       "    <tr>\n",
       "      <th>1</th>\n",
       "      <td>150</td>\n",
       "      <td>0.930539</td>\n",
       "      <td>1.776089</td>\n",
       "      <td>2.532742</td>\n",
       "      <td>3.696883</td>\n",
       "    </tr>\n",
       "    <tr>\n",
       "      <th>2</th>\n",
       "      <td>200</td>\n",
       "      <td>2.542379</td>\n",
       "      <td>3.066148</td>\n",
       "      <td>18.585626</td>\n",
       "      <td>7.905914</td>\n",
       "    </tr>\n",
       "    <tr>\n",
       "      <th>3</th>\n",
       "      <td>250</td>\n",
       "      <td>0.441149</td>\n",
       "      <td>1.854894</td>\n",
       "      <td>0.995473</td>\n",
       "      <td>3.672968</td>\n",
       "    </tr>\n",
       "    <tr>\n",
       "      <th>4</th>\n",
       "      <td>300</td>\n",
       "      <td>0.449653</td>\n",
       "      <td>3.430537</td>\n",
       "      <td>0.732473</td>\n",
       "      <td>10.536930</td>\n",
       "    </tr>\n",
       "    <tr>\n",
       "      <th>5</th>\n",
       "      <td>350</td>\n",
       "      <td>0.726015</td>\n",
       "      <td>2.001941</td>\n",
       "      <td>4.567238</td>\n",
       "      <td>5.429202</td>\n",
       "    </tr>\n",
       "    <tr>\n",
       "      <th>6</th>\n",
       "      <td>400</td>\n",
       "      <td>0.238094</td>\n",
       "      <td>1.564610</td>\n",
       "      <td>0.234294</td>\n",
       "      <td>4.505502</td>\n",
       "    </tr>\n",
       "    <tr>\n",
       "      <th>7</th>\n",
       "      <td>450</td>\n",
       "      <td>0.250093</td>\n",
       "      <td>2.186495</td>\n",
       "      <td>0.206781</td>\n",
       "      <td>5.532280</td>\n",
       "    </tr>\n",
       "    <tr>\n",
       "      <th>8</th>\n",
       "      <td>500</td>\n",
       "      <td>0.227974</td>\n",
       "      <td>2.260988</td>\n",
       "      <td>0.275794</td>\n",
       "      <td>8.858804</td>\n",
       "    </tr>\n",
       "    <tr>\n",
       "      <th>9</th>\n",
       "      <td>550</td>\n",
       "      <td>0.252563</td>\n",
       "      <td>2.369079</td>\n",
       "      <td>0.202572</td>\n",
       "      <td>6.592221</td>\n",
       "    </tr>\n",
       "    <tr>\n",
       "      <th>10</th>\n",
       "      <td>600</td>\n",
       "      <td>0.223130</td>\n",
       "      <td>2.749861</td>\n",
       "      <td>0.350463</td>\n",
       "      <td>8.555492</td>\n",
       "    </tr>\n",
       "    <tr>\n",
       "      <th>11</th>\n",
       "      <td>650</td>\n",
       "      <td>0.219317</td>\n",
       "      <td>1.784319</td>\n",
       "      <td>0.255282</td>\n",
       "      <td>4.206175</td>\n",
       "    </tr>\n",
       "    <tr>\n",
       "      <th>12</th>\n",
       "      <td>700</td>\n",
       "      <td>0.196632</td>\n",
       "      <td>1.679021</td>\n",
       "      <td>0.179790</td>\n",
       "      <td>3.864126</td>\n",
       "    </tr>\n",
       "    <tr>\n",
       "      <th>13</th>\n",
       "      <td>750</td>\n",
       "      <td>0.171764</td>\n",
       "      <td>2.858502</td>\n",
       "      <td>0.151693</td>\n",
       "      <td>12.130303</td>\n",
       "    </tr>\n",
       "    <tr>\n",
       "      <th>14</th>\n",
       "      <td>800</td>\n",
       "      <td>0.164670</td>\n",
       "      <td>1.768244</td>\n",
       "      <td>0.112467</td>\n",
       "      <td>4.962211</td>\n",
       "    </tr>\n",
       "    <tr>\n",
       "      <th>15</th>\n",
       "      <td>850</td>\n",
       "      <td>0.153034</td>\n",
       "      <td>1.184098</td>\n",
       "      <td>0.143989</td>\n",
       "      <td>1.948719</td>\n",
       "    </tr>\n",
       "    <tr>\n",
       "      <th>16</th>\n",
       "      <td>900</td>\n",
       "      <td>0.165570</td>\n",
       "      <td>1.711337</td>\n",
       "      <td>0.176689</td>\n",
       "      <td>4.285497</td>\n",
       "    </tr>\n",
       "    <tr>\n",
       "      <th>17</th>\n",
       "      <td>950</td>\n",
       "      <td>0.149758</td>\n",
       "      <td>1.157149</td>\n",
       "      <td>0.133913</td>\n",
       "      <td>3.121346</td>\n",
       "    </tr>\n",
       "  </tbody>\n",
       "</table>\n",
       "</div>"
      ],
      "text/plain": [
       "    Sample Size  Error_1_Means  Error_2_Means    Error_1    Error_2\n",
       "0           100       1.467923       3.904616   5.253148  21.334224\n",
       "1           150       0.930539       1.776089   2.532742   3.696883\n",
       "2           200       2.542379       3.066148  18.585626   7.905914\n",
       "3           250       0.441149       1.854894   0.995473   3.672968\n",
       "4           300       0.449653       3.430537   0.732473  10.536930\n",
       "5           350       0.726015       2.001941   4.567238   5.429202\n",
       "6           400       0.238094       1.564610   0.234294   4.505502\n",
       "7           450       0.250093       2.186495   0.206781   5.532280\n",
       "8           500       0.227974       2.260988   0.275794   8.858804\n",
       "9           550       0.252563       2.369079   0.202572   6.592221\n",
       "10          600       0.223130       2.749861   0.350463   8.555492\n",
       "11          650       0.219317       1.784319   0.255282   4.206175\n",
       "12          700       0.196632       1.679021   0.179790   3.864126\n",
       "13          750       0.171764       2.858502   0.151693  12.130303\n",
       "14          800       0.164670       1.768244   0.112467   4.962211\n",
       "15          850       0.153034       1.184098   0.143989   1.948719\n",
       "16          900       0.165570       1.711337   0.176689   4.285497\n",
       "17          950       0.149758       1.157149   0.133913   3.121346"
      ]
     },
     "execution_count": 21,
     "metadata": {},
     "output_type": "execute_result"
    }
   ],
   "source": [
    "joined_table"
   ]
  },
  {
   "cell_type": "code",
   "execution_count": 22,
   "id": "e7c29ca2",
   "metadata": {},
   "outputs": [
    {
     "data": {
      "image/png": "[encoded data removed]",
      "text/plain": [
       "<Figure size 1000x600 with 1 Axes>"
      ]
     },
     "metadata": {},
     "output_type": "display_data"
    }
   ],
   "source": [
    "# Create the plot\n",
    "plt.figure(figsize=(10, 6))\n",
    "\n",
    "\n",
    "# Plot effect size 1\n",
    "plt.errorbar('Sample Size','Error_1_Means', yerr = 'Error_1',  fmt='o', label='Effect Size = 1',data = joined_table ,color='blue')\n",
    "\n",
    "\n",
    "# Add labels and title\n",
    "plt.xlabel('Sample Size')\n",
    "plt.ylabel('Error Estimate')\n",
    "plt.title('As sample size increases, instrumental variable estimate becomes more accurate')\n",
    "plt.legend()\n",
    "\n",
    "# Show the plot\n",
    "plt.grid(True)\n",
    "plt.show()\n"
   ]
  },
  {
   "cell_type": "code",
   "execution_count": 23,
   "id": "75a0eaa0",
   "metadata": {},
   "outputs": [
    {
     "data": {
      "image/png": "[encoded data removed]",
      "text/plain": [
       "<Figure size 1000x600 with 1 Axes>"
      ]
     },
     "metadata": {},
     "output_type": "display_data"
    }
   ],
   "source": [
    "plt.figure(figsize=(10, 6))\n",
    "\n",
    "# Plot effect size 0.25\n",
    "plt.errorbar('Sample Size','Error_2_Means', yerr = 'Error_2',  fmt='o', label='Effect Size = 0.25', data = joined_table, color='orange')\n",
    "\n",
    "# Add labels and title\n",
    "plt.xlabel('Sample Size')\n",
    "plt.ylabel('Error Estimate')\n",
    "plt.title('For the weak instrument, even higher sample sizes are less accurate')\n",
    "plt.legend()\n",
    "\n",
    "# Show the plot\n",
    "plt.grid(True)\n",
    "plt.show()"
   ]
  },
  {
   "cell_type": "code",
   "execution_count": null,
   "id": "898236fe",
   "metadata": {},
   "outputs": [],
   "source": []
  }
 ],
 "metadata": {
  "kernelspec": {
   "display_name": "Python 3 (ipykernel)",
   "language": "python",
   "name": "python3"
  },
  "language_info": {
   "codemirror_mode": {
    "name": "ipython",
    "version": 3
   },
   "file_extension": ".py",
   "mimetype": "text/x-python",
   "name": "python",
   "nbconvert_exporter": "python",
   "pygments_lexer": "ipython3",
   "version": "3.9.13"
  }
 },
 "nbformat": 4,
 "nbformat_minor": 5
}
